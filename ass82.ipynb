{
 "cells": [
  {
   "cell_type": "code",
   "execution_count": 29,
   "metadata": {},
   "outputs": [],
   "source": [
    "import numpy as np\n",
    "import pandas as pd"
   ]
  },
  {
   "cell_type": "code",
   "execution_count": 30,
   "metadata": {},
   "outputs": [],
   "source": [
    "data=pd.read_csv('matches - matches.csv')"
   ]
  },
  {
   "cell_type": "code",
   "execution_count": 43,
   "metadata": {},
   "outputs": [],
   "source": [
    "def team_Record(team1,team2):\n",
    "    try:\n",
    "        int(team1) or int(team2)         \n",
    "    except ValueError:\n",
    "        m1=data['team1']==team1\n",
    "        m2=data['team2']==team2\n",
    "        d1=data[m1&m2]['winner'].value_counts()           \n",
    "        m3=data['team2']==team1\n",
    "        m4=data['team1']==team2\n",
    "        d2 =data[m3&m4]['winner'].value_counts()\n",
    "        if d2.add(d1,fill_value=0).empty:           \n",
    "            return 'Not match found'\n",
    "        else:\n",
    "            return d2.add(d1,fill_value=0)              \n",
    "    else:\n",
    "        return 'Arguments Should be Team Names not a integer'\n"
   ]
  },
  {
   "cell_type": "code",
   "execution_count": 45,
   "metadata": {},
   "outputs": [
    {
     "data": {
      "text/plain": [
       "Mumbai Indians         12\n",
       "Chennai Super Kings    10\n",
       "Name: winner, dtype: int64"
      ]
     },
     "execution_count": 45,
     "metadata": {},
     "output_type": "execute_result"
    }
   ],
   "source": [
    "team_Record('Mumbai Indians','Chennai Super Kings')\n"
   ]
  },
  {
   "cell_type": "code",
   "execution_count": null,
   "metadata": {},
   "outputs": [],
   "source": []
  },
  {
   "cell_type": "code",
   "execution_count": null,
   "metadata": {},
   "outputs": [],
   "source": []
  }
 ],
 "metadata": {
  "kernelspec": {
   "display_name": "Python 3",
   "language": "python",
   "name": "python3"
  },
  "language_info": {
   "codemirror_mode": {
    "name": "ipython",
    "version": 3
   },
   "file_extension": ".py",
   "mimetype": "text/x-python",
   "name": "python",
   "nbconvert_exporter": "python",
   "pygments_lexer": "ipython3",
   "version": "3.7.3"
  }
 },
 "nbformat": 4,
 "nbformat_minor": 2
}
